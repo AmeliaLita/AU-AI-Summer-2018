{
  "nbformat": 4,
  "nbformat_minor": 0,
  "metadata": {
    "colab": {
      "name": "day1b.ipynb",
      "version": "0.3.2",
      "provenance": [],
      "include_colab_link": true
    },
    "kernelspec": {
      "name": "python3",
      "display_name": "Python 3"
    }
  },
  "cells": [
    {
      "cell_type": "markdown",
      "metadata": {
        "id": "view-in-github",
        "colab_type": "text"
      },
      "source": [
        "[View in Colaboratory](https://colab.research.google.com/github/AmeliaLita/AU-AI-Summer-2018/blob/master/day1-July3/day1b.ipynb)"
      ]
    },
    {
      "metadata": {
        "id": "WHQzozFI-uty",
        "colab_type": "text"
      },
      "cell_type": "markdown",
      "source": [
        "#AI AU Summer Program 2018\n",
        "##Assignment 1B\n",
        "\n"
      ]
    },
    {
      "metadata": {
        "id": "lXMQzCyYHRop",
        "colab_type": "text"
      },
      "cell_type": "markdown",
      "source": [
        "###List of AI Terms: Introduction to AI\n",
        "\n",
        "* AI \n",
        "\n",
        "* Machine Translation\n",
        "\n",
        "* Expert Systems\n",
        "\n",
        "* Prolog\n",
        "\n",
        "* Machine Learning\n",
        "  \n",
        "  * Supervised Machine Learning\n",
        "    * Regression\n",
        "      * Simple Linear Regression\n",
        "      * Multiple Linear Regression\n",
        "    * Decision Trees\n",
        "      * Entropy\n",
        "  \n",
        "  * Unsupervised Machine Learning\n",
        "    * Clustering\n",
        "    * Association Rule Mining\n",
        "    \n",
        "* Deep Learning\n",
        "\n",
        "* Neural Network\n",
        "\n",
        "* Perceptron\n",
        "\n",
        "* Activation Functions\n",
        "\n",
        "* Deep Neural Network\n",
        "\n",
        "* Convolutional Neural Network\n",
        "\n",
        "* Recurrent Neural Network\n",
        "\n",
        "* Transfer Learning\n",
        "\n",
        "\n",
        "\n"
      ]
    },
    {
      "metadata": {
        "id": "JCDoIKhUKhT6",
        "colab_type": "text"
      },
      "cell_type": "markdown",
      "source": [
        "##AI Challenge: Chest X-Ray Images (Pneumonia)\n",
        "\n",
        "[source](https://www.kaggle.com/paultimothymooney/chest-xray-pneumonia/home)\n",
        "\n",
        "\n",
        "**Overview: **\n",
        "\n",
        "* Context:\n",
        "\n",
        "![Lungs](https://i.imgur.com/jZqpV51.png)\n",
        "<center>Figure S6. Illustrative Examples of Chest X-Rays in Patients with Pneumonia </center>\n",
        "\n",
        ">Related to Figure 6 The normal chest X-ray (left panel) depicts clear lungs without any areas of abnormal opacification in the image. Bacterial pneumonia (middle) typically exhibits a focal lobar consolidation, in this case in the right upper lobe (white arrows), whereas viral pneumonia (right) manifests with a more diffuse ‘‘interstitial’’ pattern in both lungs.\n",
        "\n",
        " * Content: \n",
        "\n",
        ">The dataset is organized into 3 folders (train, test, val) and contains subfolders for each image category (Pneumonia/Normal). There are 5,863 X-Ray images (JPEG) and 2 categories (Pneumonia/Normal).\n",
        "\n",
        ">Chest X-ray images (anterior-posterior) were selected from retrospective cohorts of pediatric patients of one to five years old from Guangzhou Women and Children’s Medical Center, Guangzhou. All chest X-ray imaging was performed as part of patients’ routine clinical care.\n",
        "\n",
        ">For the analysis of chest x-ray images, all chest radiographs were initially screened for quality control by removing all low quality or unreadable scans. The diagnoses for the images were then graded by two expert physicians before being cleared for training the AI system. In order to account for any grading errors, the evaluation set was also checked by a third expert.\n",
        "\n",
        "* Inspiration: \n",
        "\n",
        ">Automated methods to detect and classify human diseases from medical images.\n",
        "\n",
        ">***Resources: ***\n",
        "\n",
        ">http://www.cell.com/cell/fulltext/S0092-8674(18)30154-5 (Citation)\n",
        "\n",
        ">https://data.mendeley.com/datasets/rscbjbr9sj/2 (Data)"
      ]
    }
  ]
}