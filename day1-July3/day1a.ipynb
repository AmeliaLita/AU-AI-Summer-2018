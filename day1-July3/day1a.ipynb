{
  "nbformat": 4,
  "nbformat_minor": 0,
  "metadata": {
    "colab": {
      "name": "day1a.ipynb",
      "version": "0.3.2",
      "provenance": [],
      "include_colab_link": true
    },
    "kernelspec": {
      "name": "python2",
      "display_name": "Python 2"
    }
  },
  "cells": [
    {
      "cell_type": "markdown",
      "metadata": {
        "id": "view-in-github",
        "colab_type": "text"
      },
      "source": [
        "[View in Colaboratory](https://colab.research.google.com/github/AmeliaLita/AU-AI-Summer-2018/blob/master/day1-July3/day1a.ipynb)"
      ]
    },
    {
      "metadata": {
        "id": "z4QnmYfVIjRT",
        "colab_type": "text"
      },
      "cell_type": "markdown",
      "source": [
        "#AU AI Summer Program Assignment Day 1\n"
      ]
    },
    {
      "metadata": {
        "id": "wQ-YX9j_RpIk",
        "colab_type": "text"
      },
      "cell_type": "markdown",
      "source": [
        "*Practice in writing markup style*\n",
        "\n",
        "Important Links: http://summer.aiplab.net/\n",
        "\n",
        "\n",
        "\n",
        "Others: \n",
        "\n",
        "1. Facebook Group: https://www.facebook.com/groups/AUAISummerProgram/\n",
        "\n",
        "* Gitbook Student Manual: https://htchutw.gitbooks.io/2018-au-aisp-guide/content/\n",
        "\n",
        "**Continued..**"
      ]
    }
  ]
}