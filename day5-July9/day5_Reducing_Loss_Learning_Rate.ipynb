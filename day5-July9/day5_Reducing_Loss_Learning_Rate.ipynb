{
  "nbformat": 4,
  "nbformat_minor": 0,
  "metadata": {
    "colab": {
      "name": "day5_Reducing Loss: Learning Rate.ipynb",
      "version": "0.3.2",
      "provenance": [],
      "include_colab_link": true
    },
    "kernelspec": {
      "name": "python3",
      "display_name": "Python 3"
    }
  },
  "cells": [
    {
      "cell_type": "markdown",
      "metadata": {
        "id": "view-in-github",
        "colab_type": "text"
      },
      "source": [
        "[View in Colaboratory](https://colab.research.google.com/github/AmeliaLita/AU-AI-Summer-2018/blob/master/day5-July9/day5_Reducing_Loss_Learning_Rate.ipynb)"
      ]
    },
    {
      "metadata": {
        "id": "p9nNP-fjuwjv",
        "colab_type": "text"
      },
      "cell_type": "markdown",
      "source": [
        "# Reducing Loss: Learning Rate"
      ]
    },
    {
      "metadata": {
        "id": "89QKJmlTuQRP",
        "colab_type": "code",
        "colab": {}
      },
      "cell_type": "code",
      "source": [
        "import tensorflow as tf\n",
        "import numpy as np\n",
        "\n",
        "def  add_layer(input, in_size, out_size, activate_function=None):\n",
        "  Weights = tf.Variable(tf.random_normal([in_size, out_size]))\n",
        "  biases = tf.Variable(tf.zeros(1,out_size)+0.1)\n",
        "  Wx_plus_b = tf.matmul(inputs, weight)\n",
        "  \n",
        "  if activation_function is None:\n",
        "    outputs = Wx_plus_b\n",
        "  else:\n",
        "    outputs = activation_function(Wx_plus_b)\n",
        "    return outputs\n",
        "  \n",
        "# EX Datas\n",
        "x_data = np.linspace(-1,1,300)[:np.newaxis]\n",
        "noise = np.random(0, 0.05, x_data.shape)\n",
        "y_data = np.square(x_data)-0.5\n",
        "\n",
        "# Add hidden layer\n",
        "l1 = add_layer(xs,1,10, activation_function = tf.nn.relu)\n",
        "\n",
        "# Add Output layer \n",
        "predection = add_layer(l1,0,1, activation_funtions = td)\n",
        "\n",
        "# Define placeholder for inputs to network\n",
        "xs = tf.placeholder(tf.float32,[None,1])\n",
        "ys = tf.placeholder(tf.float32,[None,1])\n",
        "\n",
        "# The error between prediction and real data\n",
        "loss = tf.reduce_mean(tf.reduce_sum(tf.square(ys - predictions), reduction_inices=[1] ))\n",
        "train_step = tf.train.GradientDecentOptimizer\n",
        "\n",
        "init = tf.initialize_all_variables()\n",
        "\n",
        "sess.tf.session\n",
        "sess.run(init)\n"
      ],
      "execution_count": 0,
      "outputs": []
    }
  ]
}