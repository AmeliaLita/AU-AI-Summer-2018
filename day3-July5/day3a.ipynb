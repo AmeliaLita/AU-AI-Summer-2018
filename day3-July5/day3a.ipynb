{
 "cells": [
  {
   "cell_type": "markdown",
   "metadata": {},
   "source": [
    "# AUAI Summer-Python Basic (1)\n",
    "* reference 1 https://docs.python.org/3.6/library/\n",
    "* reference 2 https://www.w3schools.com/python"
   ]
  },
  {
   "cell_type": "markdown",
   "metadata": {},
   "source": [
    "## Step 1: Hello World\n",
    "* using print()\n",
    "* line comment with #\n",
    "* Docstring with '''...''' or \"\"\"...\"\"\""
   ]
  },
  {
   "cell_type": "code",
   "execution_count": 1,
   "metadata": {},
   "outputs": [
    {
     "name": "stdout",
     "output_type": "stream",
     "text": [
      "Hello World\n"
     ]
    }
   ],
   "source": [
    "# this is the first comment\n",
    "print (\"Hello World\")"
   ]
  },
  {
   "cell_type": "markdown",
   "metadata": {},
   "source": [
    "## Step 2: Vaiable \n",
    "* Numbers, Strings, Lists, Tuples, Sets, Dictionaries\n",
    "* 2 integer 3.75 floating point \n",
    "* String with single/double quotes '' \"\"\n",
    "* Constructors int(), float(), complex(), and str()\n",
    "* List with square brackets [,,]  [\"cat\", \"dog\"]\n",
    "* Tuples with round brackets (,,,)\n",
    "* Dictionary with {\"a\"=\"cat\", \"b\"=\"dog\"} dict(a=\"cat\", b=\"dog\")"
   ]
  },
  {
   "cell_type": "code",
   "execution_count": 30,
   "metadata": {
    "scrolled": true
   },
   "outputs": [
    {
     "name": "stdout",
     "output_type": "stream",
     "text": [
      "Numbers, Strings and Lists\n",
      "[2, 3.75, 'Amelia']\n",
      "\n",
      "Constructors\n",
      "5\n",
      "5.224342\n",
      "(5.224342+6j)\n",
      "\n",
      "2000\n",
      "3\n",
      "('a', 'b')\n",
      "()\n",
      "50\n"
     ]
    }
   ],
   "source": [
    "x = 2 \n",
    "y = 3.75\n",
    "z = \"Amelia\"\n",
    "\n",
    "\n",
    "\n",
    "print (\"Numbers, Strings and Lists\")\n",
    "print ([x, y, z])\n",
    "print()\n",
    "print(\"Constructors\")\n",
    "print (int (5.224342))#integer\n",
    "print (float (5.224342)) #float\n",
    "print (complex (5.224342, 6)) #complex numbers: real and imaginary number. Seperate by (,) that is (i, j)\n",
    "print ()\n",
    "\n",
    "#Tuple are sequences, just like lists. The diff between tuple and lists are,the tuples cannot be changed unlike lists\n",
    "tup1 = ('physics', 'chemistry', 1997, 2000);\n",
    "tup2 = (1, 2, 3, 4, 5 );\n",
    "tup3 = \"a\", \"b\", \"c\", \"d\";\n",
    "tup4 = () #empty tupple\n",
    "tup5 = (50,) #single value tupple\n",
    "\n",
    "print (tup1[3]) #Tupple (idices) starts from 0. This explains it.\n",
    "print (tup2[2])\n",
    "print (tup3 [0:2]) # This means calling the tupple from 0 until 1, before indices 2. Results: (tup3(0),tup3(1))\n",
    "print (tup4[0:100]) #this tuple is an empty tupple\n",
    "print (tup5[0])"
   ]
  },
  {
   "cell_type": "markdown",
   "metadata": {},
   "source": [
    "## Step 3: Formatted output\n",
    "* \"%2d\", \"%.2f\" % a\n",
    "* '%s %s'  %  ('one' , 'two')\n",
    "* '{} {}'.format('one', 'two')\n",
    "* print (..., end='\\t')  print (..., end=' ') "
   ]
  },
  {
   "cell_type": "code",
   "execution_count": 27,
   "metadata": {},
   "outputs": [
    {
     "name": "stdout",
     "output_type": "stream",
     "text": [
      "one two\n",
      "one two\n"
     ]
    }
   ],
   "source": [
    "print('%s %s'  %  ('one' , 'two'))\n",
    "print('{} {}'.format('one', 'two'))"
   ]
  },
  {
   "cell_type": "markdown",
   "metadata": {},
   "source": [
    "## Step 4: Loop\n",
    "* using range function as range(start, stop, step)\n",
    "* range(3)\n",
    "* range(1,10)\n",
    "* for x in [1, 2, 3]:"
   ]
  },
  {
   "cell_type": "code",
   "execution_count": null,
   "metadata": {},
   "outputs": [],
   "source": [
    "for x in range(0,3):\n",
    "    for y in range(1,10):\n",
    "        for z in range(1,4):\n",
    "            m = x*3+z\n",
    "            print ('%d*%d=%2d' % (m,y,m*y), end='\\t')      \n",
    "        print ()\n",
    "    print ()"
   ]
  },
  {
   "cell_type": "markdown",
   "metadata": {},
   "source": [
    "## Step 5: List functions\n",
    "* append()\tAdds an element at the end of the list\n",
    "* reverse()\tReverses the order of the list\n",
    "* sort()\tSorts the list\n",
    "* len()  returns the number of items"
   ]
  },
  {
   "cell_type": "code",
   "execution_count": null,
   "metadata": {},
   "outputs": [],
   "source": [
    "a = ['John', 'Mary', 'Lisa']"
   ]
  },
  {
   "cell_type": "markdown",
   "metadata": {},
   "source": [
    "## Step 6: if condition, while condition\n",
    "* if condition: ....\n",
    "* while condition: ....\n",
    "* Equals: a == b\n",
    "* Not Equals: a != b\n",
    "* Less than: a < b\n",
    "* Less than or equal to: a <= b\n",
    "* Greater than: a > b\n",
    "* Greater than or equal to: a >= b"
   ]
  },
  {
   "cell_type": "code",
   "execution_count": null,
   "metadata": {},
   "outputs": [],
   "source": [
    "a = 2; b = 3\n",
    "if :\n",
    "    print(\"The greater is {}\", )"
   ]
  },
  {
   "cell_type": "markdown",
   "metadata": {},
   "source": [
    "## Step 7: Boolean Values, Null objects, Ellipsis  \n",
    "* False and True\n",
    "* Null\n",
    "* ..."
   ]
  },
  {
   "cell_type": "code",
   "execution_count": null,
   "metadata": {},
   "outputs": [],
   "source": []
  },
  {
   "cell_type": "markdown",
   "metadata": {},
   "source": [
    "## Step 8: Operators\n",
    "*Logical Operators or / and / not\n",
    "*Identity Operators is / is not\n",
    "*Membership Operators in / not in\n",
    "*Bitwise Operators & AND/|OR /^\tXOR\t/~ NOT\t"
   ]
  },
  {
   "cell_type": "code",
   "execution_count": null,
   "metadata": {},
   "outputs": [],
   "source": []
  }
 ],
 "metadata": {
  "kernelspec": {
   "display_name": "Python 3",
   "language": "python",
   "name": "python3"
  },
  "language_info": {
   "codemirror_mode": {
    "name": "ipython",
    "version": 3
   },
   "file_extension": ".py",
   "mimetype": "text/x-python",
   "name": "python",
   "nbconvert_exporter": "python",
   "pygments_lexer": "ipython3",
   "version": "3.6.5"
  }
 },
 "nbformat": 4,
 "nbformat_minor": 2
}
