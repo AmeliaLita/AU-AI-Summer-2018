{
  "nbformat": 4,
  "nbformat_minor": 0,
  "metadata": {
    "colab": {
      "name": "day2.ipynb",
      "version": "0.3.2",
      "provenance": [],
      "include_colab_link": true
    },
    "kernelspec": {
      "name": "python3",
      "display_name": "Python 3"
    }
  },
  "cells": [
    {
      "cell_type": "markdown",
      "metadata": {
        "id": "view-in-github",
        "colab_type": "text"
      },
      "source": [
        "[View in Colaboratory](https://colab.research.google.com/github/AmeliaLita/AU-AI-Summer-2018/blob/master/day2-July4/day2.ipynb)"
      ]
    },
    {
      "metadata": {
        "id": "OjPi0FuTSgxN",
        "colab_type": "text"
      },
      "cell_type": "markdown",
      "source": [
        "#AI AU Summer Program 2018\n",
        "\n",
        "## Assignment 2: AIY Installation + Google Assistant Service + Dialog Flow + Build Actions for the Google Asisstant"
      ]
    },
    {
      "metadata": {
        "id": "0qLpDlyRT2Ax",
        "colab_type": "text"
      },
      "cell_type": "markdown",
      "source": [
        "* ** AIY Installation**\n",
        "\n",
        "> AIY is a project by google. \"A Do-it-Yourself Artificial Intelligence.\" There are 2 kits provided by google: Vision Kit and Voice Kit. \n",
        "\n",
        ">https://aiyprojects.withgoogle.com/\n",
        "\n",
        "> In this notebook, we will discuss more on the installation of Google AIY Voice Kit Version 1. We will follow the instructions on how to build the voice kit below: \n",
        "\n",
        "> https://aiyprojects.withgoogle.com/voice-v1/#project-overview\n",
        ">https://htchutw.gitbooks.io/2018-au-aisp-guide/content/aiy-tutorial.html\n",
        "\n",
        "> In the AIY Voice Kit Installation, it's important to download ***Voice Kit SD Image*** and ***Card Writing Utility Etcher.io*** from this link: \n",
        "\n",
        "> http://summer.aiplab.net/\n",
        "\n",
        "> After that, using the Etcher.io application, write the Voice Kit SD Image into an SD card. This SD Card will be insterted into the SD card Slot in the Voice Kit later. Now, follow this guide all the way to setting up the assistant and we're all done. \n",
        "\n",
        "> https://aiyprojects.withgoogle.com/voice-v1/#assembly-guide\n",
        "\n",
        "* **Google Assistant Service**\n",
        "\n",
        "> Google Assistant Service is the service installed to this AIY. It's an AI that respond to the user's request after \"Hey, Google\". This service is available in most androids.\n",
        "\n",
        "> https://www.pocket-lint.com/apps/news/google/137722-what-is-google-assistant-how-does-it-work-and-which-devices-offer-it\n",
        "\n",
        "> https://developers.google.com/assistant/sdk/guides/service/python/\n",
        "\n",
        "* **Dialog Flow**\n",
        "\n",
        "> Dialogflow (formerly Api.ai, Speaktoit) is a Google-owned developer of human–computer interaction technologies based on natural language conversation. It uses google's machine learning to understand the user's request and answer it.\n",
        "\n",
        "> https://dialogflow.com/\n",
        "\n",
        "> https://en.wikipedia.org/wiki/Dialogflow\n",
        "\n",
        "> https://www.youtube.com/watch?v=ADD-rvsS5z4&feature=youtu.be\n",
        "\n",
        "* **Build Actions for the Google Assistant**\n",
        "\n",
        "> To understand this better, read the link below and also watch the youtube link above: \n",
        "\n",
        "> https://codelabs.developers.google.com/codelabs/actions-1/#0\n",
        "\n"
      ]
    }
  ]
}